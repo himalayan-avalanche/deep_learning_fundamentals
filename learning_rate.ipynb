{
 "cells": [
  {
   "cell_type": "code",
   "execution_count": null,
   "id": "8533b08f-3e16-4c71-a0f1-979c3b2d4c2e",
   "metadata": {},
   "outputs": [],
   "source": [
    "import torch\n",
    "import torch.optim as optim\n",
    "import torch.nn as nn\n",
    "\n",
    "device = torch.device(\"mps\" if torch.backends.mps.is_available() else \"cpu\")"
   ]
  },
  {
   "cell_type": "markdown",
   "id": "2f89c7af-5726-45f7-b9ad-7028ac78022c",
   "metadata": {},
   "source": [
    "### Data"
   ]
  },
  {
   "cell_type": "code",
   "execution_count": 3,
   "id": "84d38786-011f-49b9-af61-58e5ce6364f2",
   "metadata": {},
   "outputs": [
    {
     "data": {
      "text/plain": [
       "(torch.Size([1000, 5]), torch.Size([1000, 1]))"
      ]
     },
     "execution_count": 3,
     "metadata": {},
     "output_type": "execute_result"
    }
   ],
   "source": [
    "n=1000\n",
    "p=5\n",
    "\n",
    "x=torch.randn(n, p).to(device)\n",
    "w_true=torch.tensor([i/0.5 for i in range(p)], dtype=torch.float, device=device)\n",
    "\n",
    "noise_mean=0\n",
    "noise_std=0.2\n",
    "\n",
    "y=x@w_true+ noise_std*torch.randn(n, dtype=torch.float, device=device) + noise_mean\n",
    "y=y.reshape(-1, 1).to(device)\n",
    "\n",
    "x.shape, y.shape"
   ]
  },
  {
   "cell_type": "markdown",
   "id": "31841ab6-5e4d-4f74-ab4d-4ec63768e3fd",
   "metadata": {},
   "source": [
    "### Without scheduler"
   ]
  },
  {
   "cell_type": "code",
   "execution_count": 32,
   "id": "994283e7-ee08-4326-bf60-aec03d2143d2",
   "metadata": {},
   "outputs": [],
   "source": [
    "def train_model(scheduler=False):\n",
    "    \n",
    "    torch.manual_seed(42)\n",
    "    lr=0.25\n",
    "    model = nn.Sequential(nn.Linear(p, 1)).to(device)\n",
    "    loss_fn=nn.MSELoss(reduction='mean')\n",
    "    optimizer = optim.SGD(model.parameters(), lr=lr)\n",
    "    if scheduler=='StepLR':\n",
    "        schdler = torch.optim.lr_scheduler.StepLR(optimizer, step_size=1, gamma=.9)\n",
    "    if scheduler=='CosineAnnealingLR':\n",
    "        schdler = torch.optim.lr_scheduler.CosineAnnealingLR(optimizer, T_max=100)\n",
    "    if scheduler=='ExponentialLR':\n",
    "        schdler = torch.optim.lr_scheduler.ExponentialLR(optimizer, gamma=0.95)\n",
    "    if scheduler=='ReduceLROnPlateau':\n",
    "        schdler = torch.optim.lr_scheduler.ReduceLROnPlateau(optimizer, mode='min', patience=10, factor=0.1)\n",
    "    \n",
    "    n_epoch=100\n",
    "\n",
    "    for epoch in range(n_epoch):\n",
    "        model.train()\n",
    "        loss=loss_fn(model(x), y)\n",
    "        optimizer.zero_grad(set_to_none=True) \n",
    "        loss.backward()\n",
    "        optimizer.step() \n",
    "        if scheduler=='ReduceLROnPlateau':\n",
    "            schdler.step(loss)\n",
    "        elif scheduler:\n",
    "            schdler.step()\n",
    "        else:\n",
    "            continue\n",
    "    print(f\"\\n\\nEpoch :: {epoch+1} \")\n",
    "    if scheduler:\n",
    "        print(f\"\\nLearning rate is {schdler.get_last_lr()[0]}\")\n",
    "    print(f\"\\nWeights: {model.state_dict().values().mapping['0.weight'][0]}\")\n",
    "    print(f\"\\nBias:    {model.state_dict().values().mapping['0.bias'][0]}\")\n",
    "    print(f\"\\nLoss: {loss.item()}\\n\")"
   ]
  },
  {
   "cell_type": "markdown",
   "id": "78eca7b3-fa06-4a4a-a5e0-8f6c2b85430a",
   "metadata": {},
   "source": [
    "#### No Scheduler"
   ]
  },
  {
   "cell_type": "code",
   "execution_count": 33,
   "id": "bfe4fed9-e386-4626-88f1-e44adc111ee8",
   "metadata": {},
   "outputs": [
    {
     "name": "stdout",
     "output_type": "stream",
     "text": [
      "\n",
      "\n",
      "Epoch :: 100 \n",
      "\n",
      "Weights: tensor([4.0653e-03, 2.0031e+00, 3.9963e+00, 6.0017e+00, 7.9960e+00],\n",
      "       device='mps:0')\n",
      "\n",
      "Bias:    -0.0032501553650945425\n",
      "\n",
      "Loss: 0.040374353528022766\n",
      "\n"
     ]
    }
   ],
   "source": [
    "train_model(scheduler=False)"
   ]
  },
  {
   "cell_type": "markdown",
   "id": "13af0236-e0bb-4198-a24c-e208e39ac8eb",
   "metadata": {},
   "source": [
    "#### StepLR"
   ]
  },
  {
   "cell_type": "code",
   "execution_count": 34,
   "id": "4246e00f-1352-4e7d-9720-843e9c51197f",
   "metadata": {},
   "outputs": [
    {
     "name": "stdout",
     "output_type": "stream",
     "text": [
      "\n",
      "\n",
      "Epoch :: 100 \n",
      "\n",
      "Learning rate is 6.640349721896886e-06\n",
      "\n",
      "Weights: tensor([2.6342e-04, 1.9987e+00, 3.9895e+00, 5.9875e+00, 7.9746e+00],\n",
      "       device='mps:0')\n",
      "\n",
      "Bias:    0.0056349434889853\n",
      "\n",
      "Loss: 0.04118192568421364\n",
      "\n"
     ]
    }
   ],
   "source": [
    "scheduler='StepLR'\n",
    "train_model(scheduler)"
   ]
  },
  {
   "cell_type": "markdown",
   "id": "85774bde-201a-40e1-922b-ad64612c2491",
   "metadata": {},
   "source": [
    "#### CosineAnnealingLR"
   ]
  },
  {
   "cell_type": "code",
   "execution_count": 35,
   "id": "8a0ab106-b7cb-4210-8a1f-13a9d36c2742",
   "metadata": {},
   "outputs": [
    {
     "name": "stdout",
     "output_type": "stream",
     "text": [
      "\n",
      "\n",
      "Epoch :: 100 \n",
      "\n",
      "Learning rate is 0.0\n",
      "\n",
      "Weights: tensor([4.0653e-03, 2.0031e+00, 3.9963e+00, 6.0017e+00, 7.9960e+00],\n",
      "       device='mps:0')\n",
      "\n",
      "Bias:    -0.00325010041706264\n",
      "\n",
      "Loss: 0.040374353528022766\n",
      "\n"
     ]
    }
   ],
   "source": [
    "scheduler = 'CosineAnnealingLR'\n",
    "train_model(scheduler)"
   ]
  },
  {
   "cell_type": "markdown",
   "id": "3f01adcd-78b8-4df1-86b1-64ea58472635",
   "metadata": {},
   "source": [
    "#### ExponentialLR"
   ]
  },
  {
   "cell_type": "code",
   "execution_count": 36,
   "id": "4c63b9e9-4976-4688-afe7-672f541579b5",
   "metadata": {},
   "outputs": [
    {
     "name": "stdout",
     "output_type": "stream",
     "text": [
      "\n",
      "\n",
      "Epoch :: 100 \n",
      "\n",
      "Learning rate is 0.0014801323050834992\n",
      "\n",
      "Weights: tensor([4.0360e-03, 2.0031e+00, 3.9963e+00, 6.0017e+00, 7.9959e+00],\n",
      "       device='mps:0')\n",
      "\n",
      "Bias:    -0.0031858838628977537\n",
      "\n",
      "Loss: 0.04037437215447426\n",
      "\n"
     ]
    }
   ],
   "source": [
    "scheduler = 'ExponentialLR'\n",
    "train_model(scheduler)"
   ]
  },
  {
   "cell_type": "markdown",
   "id": "c3f6f17f-0e21-435b-9d1f-f9f1bc204c80",
   "metadata": {},
   "source": [
    "#### ReduceLROnPlateau"
   ]
  },
  {
   "cell_type": "code",
   "execution_count": 37,
   "id": "e5f0ce3c-c096-4ccd-ac86-4f8faee3a7fd",
   "metadata": {},
   "outputs": [
    {
     "name": "stdout",
     "output_type": "stream",
     "text": [
      "\n",
      "\n",
      "Epoch :: 100 \n",
      "\n",
      "Learning rate is 2.5000000000000012e-08\n",
      "\n",
      "Weights: tensor([4.0652e-03, 2.0031e+00, 3.9963e+00, 6.0017e+00, 7.9960e+00],\n",
      "       device='mps:0')\n",
      "\n",
      "Bias:    -0.0032497388310730457\n",
      "\n",
      "Loss: 0.04037436097860336\n",
      "\n"
     ]
    }
   ],
   "source": [
    "scheduler = 'ReduceLROnPlateau'\n",
    "train_model(scheduler)"
   ]
  },
  {
   "cell_type": "code",
   "execution_count": null,
   "id": "7bc6ae28-e1b5-4080-a80f-d1de9c6451d2",
   "metadata": {},
   "outputs": [],
   "source": []
  },
  {
   "cell_type": "code",
   "execution_count": null,
   "id": "f3bda319-395d-42e2-a655-5e36e5b39ad2",
   "metadata": {},
   "outputs": [],
   "source": []
  }
 ],
 "metadata": {
  "kernelspec": {
   "display_name": "Python 3 (ipykernel)",
   "language": "python",
   "name": "python3"
  },
  "language_info": {
   "codemirror_mode": {
    "name": "ipython",
    "version": 3
   },
   "file_extension": ".py",
   "mimetype": "text/x-python",
   "name": "python",
   "nbconvert_exporter": "python",
   "pygments_lexer": "ipython3",
   "version": "3.11.7"
  }
 },
 "nbformat": 4,
 "nbformat_minor": 5
}
